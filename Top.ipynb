{
 "cells": [
  {
   "cell_type": "code",
   "execution_count": 124,
   "id": "2cdd90ce",
   "metadata": {},
   "outputs": [],
   "source": [
    "import networkx as nx"
   ]
  },
  {
   "cell_type": "code",
   "execution_count": null,
   "id": "d1725821",
   "metadata": {},
   "outputs": [],
   "source": [
    "class Top:\n",
    "    ''' A class for representing a finite topological space. \n",
    "        ------------\n",
    "        Attributes |\n",
    "        ----------------------------------------------------------------\n",
    "        points: a set {x | x in X } of the points of the top. space\n",
    "                The elements should all be hashable\n",
    "\n",
    "        opens: a dictionary of the basic open sets. It is of the form\n",
    "        { x : { y | x <= y} } where x <= y means x in closure({y})\n",
    "\n",
    "        closures:   dictionary of the closures of each point\n",
    "                    { x : cl({x}) }\n",
    "                    Starts as empty because computing all is O(n^2)\n",
    "                    Run getClosures() method if all are needed. Else,\n",
    "                    just call X.cl(x) or X[x] for closure of 1 point\n",
    "        ----------\n",
    "        Methods  |\n",
    "        ----------------------------------------------------------------\n",
    "        \n",
    "\n",
    "\n",
    "    \n",
    "    '''\n",
    "    def __init__(self, data):\n",
    "        # can pass a networkx graph as the data\n",
    "        if type(data) == nx.DiGraph:\n",
    "            opens = {}\n",
    "            for node in data.nodes:\n",
    "                opens[node] = nx.descendants(data,node) | {node}\n",
    "            self.opens = opens\n",
    "            self.points = set(data.nodes)\n",
    "            self.closures = {}\n",
    "        elif type(data) == dict:\n",
    "            self.opens = data\n",
    "            self.points = set(data)\n",
    "            self.closures = {}\n",
    "\n",
    "    def __repr__(self):\n",
    "        return str(self.points)\n",
    "    \n",
    "    def __len__(self):\n",
    "        return len(self.points)\n",
    "    \n",
    "    def __contains__(self, x):\n",
    "        return x in self.points\n",
    "    \n",
    "    def __iter__(self):\n",
    "        return iter(self.points)\n",
    "\n",
    "    def cl(self, x):\n",
    "        # returns the closure of the singleton {x}\n",
    "        assert x in self.points,\\\n",
    "        f'{x} is not a point in the topological space'\n",
    "        open = set()\n",
    "        for point in self.points:\n",
    "            if x not in self.opens[point]:\n",
    "                open |= self.opens[point] \n",
    "        # open = largest open set not containing x\n",
    "        # closure of {x} is its complement\n",
    "        return self.points - open\n",
    "    \n",
    "    def __call__(self, x):\n",
    "        # Top(x) returns the same as self.opens[x]\n",
    "        return self.opens[x]\n",
    "        \n",
    "    def __getitem__(self, x):\n",
    "        # Top[x] returns the same as Top.cl(x) or Top.closures[x]\n",
    "        # This convention mirrors the notation (a,b) for open interval \n",
    "        # and [a,b] for closed interval\n",
    "        try:\n",
    "            return self.closures[x]\n",
    "        except:\n",
    "            self.closures[x] = self.cl(x)\n",
    "            return self.closures[x]\n",
    "        \n",
    "    def getClosures(self):\n",
    "        # populates Top.closures for all elements\n",
    "        for x in self:\n",
    "            try: # don't bother if it's already computed\n",
    "                self.closures[x]\n",
    "            except:\n",
    "                self.closures[x] = self.cl(x)\n",
    "\n",
    "    def isleq(self, x, y):\n",
    "        # partial order defined by x<=y iff x in cl(y)\n",
    "        return x in self[y]\n",
    "    \n",
    "    def isT0(self):\n",
    "        # True iff self.opens[x] = self.opens[y] implies x = y\n",
    "        checked = set()\n",
    "        for x in self:\n",
    "            for y in self.points - (checked | {x}):\n",
    "                if self(x) == self(y):\n",
    "                    return False\n",
    "            checked |= {x} # don't check U_x=U_y and U_y=U_x separately\n",
    "        return True\n",
    "    \n",
    "    def isT1(self):\n",
    "        # for finite spaces, this is the same as being discrete\n",
    "        for x in self:\n",
    "            if self(x) != {x}:\n",
    "                return False\n",
    "        return True\n",
    "    \n",
    "    def __mul__(self, other):\n",
    "        return self.product(other)\n",
    "    \n",
    "    def product(self, other):\n",
    "        # cartesian product\n",
    "        def prod(set1, set2):\n",
    "            return {(x, y) for x in set1 for y in set2}\n",
    "        points = prod(self.points, other.points)\n",
    "        opens = {point : prod(self(point[0]), other(point[1])) \\\n",
    "                 for point in points}\n",
    "        return Top(opens)\n",
    "    \n",
    "\n",
    "\n",
    "\n",
    "\n",
    "\n"
   ]
  },
  {
   "cell_type": "code",
   "execution_count": 129,
   "id": "cf22d7e7",
   "metadata": {},
   "outputs": [
    {
     "data": {
      "text/plain": [
       "{0: {0}, 1: {0, 1, 2}, 2: {2}, 3: {0, 2, 3}}"
      ]
     },
     "execution_count": 129,
     "metadata": {},
     "output_type": "execute_result"
    }
   ],
   "source": [
    "X = Top({0:{0,1,3}, 1:{1}, 2:{1,2,3}, 3:{3}})\n",
    "X.getClosures()\n",
    "X.closures"
   ]
  },
  {
   "cell_type": "code",
   "execution_count": 130,
   "id": "c40346e0",
   "metadata": {},
   "outputs": [
    {
     "data": {
      "text/plain": [
       "{(0, 1), (1, 2), (2, 1), (3, 1), (0, 2), (2, 2), (1, 0), (3, 2), (1, 3), (0, 0), (1, 1), (0, 3), (2, 0), (3, 0), (2, 3), (3, 3)}"
      ]
     },
     "execution_count": 130,
     "metadata": {},
     "output_type": "execute_result"
    }
   ],
   "source": [
    "X*X"
   ]
  },
  {
   "cell_type": "code",
   "execution_count": null,
   "id": "076d0ba1",
   "metadata": {},
   "outputs": [],
   "source": []
  }
 ],
 "metadata": {
  "kernelspec": {
   "display_name": "Python 3",
   "language": "python",
   "name": "python3"
  },
  "language_info": {
   "codemirror_mode": {
    "name": "ipython",
    "version": 3
   },
   "file_extension": ".py",
   "mimetype": "text/x-python",
   "name": "python",
   "nbconvert_exporter": "python",
   "pygments_lexer": "ipython3",
   "version": "3.12.10"
  }
 },
 "nbformat": 4,
 "nbformat_minor": 5
}
