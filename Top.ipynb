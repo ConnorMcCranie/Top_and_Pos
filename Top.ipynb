{
 "cells": [
  {
   "cell_type": "code",
   "execution_count": 1,
   "id": "2cdd90ce",
   "metadata": {},
   "outputs": [],
   "source": [
    "import networkx as nx"
   ]
  },
  {
   "cell_type": "code",
   "execution_count": null,
   "id": "d1725821",
   "metadata": {},
   "outputs": [],
   "source": [
    "class Top:\n",
    "    ''' A class for representing a finite topological space. \n",
    "        ----------\n",
    "        Attributes\n",
    "        ----------------------------------------------------------------\n",
    "        points: a set {x | x in Top} of the points of the top. space\n",
    "\n",
    "        basis: a dictionary of the basic open sets. It is of the form\n",
    "        { x : { y | x <= y} } where x <= y means x in closure({y})\n",
    "\n",
    "        closures:   dictionary of the closures of each point\n",
    "                    { x : cl({x}) }\n",
    "                    Starts as empty because computing all is O(n^2)\n",
    "                    Run getClosures() method if needed\n",
    "\n",
    "        ----------\n",
    "        Methods\n",
    "        ----------------------------------------------------------------\n",
    "        \n",
    "\n",
    "\n",
    "    \n",
    "    '''\n",
    "    def __init__(self, data):\n",
    "        # can pass a networkx graph as the data\n",
    "        if type(data) == nx.DiGraph:\n",
    "            basis = {}\n",
    "            for node in data.nodes:\n",
    "                basis[node] = nx.descendants(data,node) | {node}\n",
    "            self.basis = basis\n",
    "            self.points = set(data.nodes)\n",
    "            self.closures = {}\n",
    "        elif type(data) == dict:\n",
    "            self.basis = data\n",
    "            self.points = set(data)\n",
    "            self.closures = {}\n",
    "    \n",
    "    def __len__(self):\n",
    "        return len(self.points)\n",
    "    \n",
    "    def __contains__(self, x):\n",
    "        return x in self.points\n",
    "    \n",
    "    def __iter__(self):\n",
    "        return iter(self.points)\n",
    "\n",
    "    def cl(self, x):\n",
    "    # returns the closure of the singleton {x}\n",
    "        open = {}\n",
    "        for point in self.points:\n",
    "            if x not in self.basis[point]:\n",
    "                open |= self.basis[point] \n",
    "        # open = largest open set not containing x\n",
    "        # closure of {x} is its complement\n",
    "        return self.points - open\n",
    "        \n",
    "    def __getitem__(self, x):\n",
    "        # Top[x] returns the same as Top.cl(x) or Top.closures[x] \n",
    "        try:\n",
    "            return self.closures[x]\n",
    "        except:\n",
    "            self.closures[x] = self.cl(x)\n",
    "            return self.closures[x]\n",
    "        \n",
    "\n",
    "\n",
    "\n"
   ]
  },
  {
   "cell_type": "code",
   "execution_count": 34,
   "id": "cf22d7e7",
   "metadata": {},
   "outputs": [
    {
     "ename": "TypeError",
     "evalue": "cannot convert dictionary update sequence element #0 to a sequence",
     "output_type": "error",
     "traceback": [
      "\u001b[1;31m---------------------------------------------------------------------------\u001b[0m",
      "\u001b[1;31mKeyError\u001b[0m                                  Traceback (most recent call last)",
      "Cell \u001b[1;32mIn[33], line 60\u001b[0m, in \u001b[0;36mTop.__getitem__\u001b[1;34m(self, x)\u001b[0m\n\u001b[0;32m     59\u001b[0m \u001b[38;5;28;01mtry\u001b[39;00m:\n\u001b[1;32m---> 60\u001b[0m     \u001b[38;5;28;01mreturn\u001b[39;00m \u001b[38;5;28;43mself\u001b[39;49m\u001b[38;5;241;43m.\u001b[39;49m\u001b[43mclosures\u001b[49m\u001b[43m[\u001b[49m\u001b[43mx\u001b[49m\u001b[43m]\u001b[49m\n\u001b[0;32m     61\u001b[0m \u001b[38;5;28;01mexcept\u001b[39;00m:\n",
      "\u001b[1;31mKeyError\u001b[0m: 2",
      "\nDuring handling of the above exception, another exception occurred:\n",
      "\u001b[1;31mTypeError\u001b[0m                                 Traceback (most recent call last)",
      "Cell \u001b[1;32mIn[34], line 3\u001b[0m\n\u001b[0;32m      1\u001b[0m X \u001b[38;5;241m=\u001b[39m Top({\u001b[38;5;241m0\u001b[39m:{\u001b[38;5;241m0\u001b[39m,\u001b[38;5;241m1\u001b[39m,\u001b[38;5;241m3\u001b[39m}, \u001b[38;5;241m1\u001b[39m:{\u001b[38;5;241m1\u001b[39m}, \u001b[38;5;241m2\u001b[39m:{\u001b[38;5;241m1\u001b[39m,\u001b[38;5;241m2\u001b[39m,\u001b[38;5;241m3\u001b[39m}, \u001b[38;5;241m3\u001b[39m:{\u001b[38;5;241m3\u001b[39m}})\n\u001b[1;32m----> 3\u001b[0m \u001b[43mX\u001b[49m\u001b[43m[\u001b[49m\u001b[38;5;241;43m2\u001b[39;49m\u001b[43m]\u001b[49m\n",
      "Cell \u001b[1;32mIn[33], line 62\u001b[0m, in \u001b[0;36mTop.__getitem__\u001b[1;34m(self, x)\u001b[0m\n\u001b[0;32m     60\u001b[0m     \u001b[38;5;28;01mreturn\u001b[39;00m \u001b[38;5;28mself\u001b[39m\u001b[38;5;241m.\u001b[39mclosures[x]\n\u001b[0;32m     61\u001b[0m \u001b[38;5;28;01mexcept\u001b[39;00m:\n\u001b[1;32m---> 62\u001b[0m     \u001b[38;5;28mself\u001b[39m\u001b[38;5;241m.\u001b[39mclosures[x] \u001b[38;5;241m=\u001b[39m \u001b[38;5;28;43mself\u001b[39;49m\u001b[38;5;241;43m.\u001b[39;49m\u001b[43mcl\u001b[49m\u001b[43m(\u001b[49m\u001b[43mx\u001b[49m\u001b[43m)\u001b[49m\n\u001b[0;32m     63\u001b[0m     \u001b[38;5;28;01mreturn\u001b[39;00m \u001b[38;5;28mself\u001b[39m\u001b[38;5;241m.\u001b[39mclosures[x]\n",
      "Cell \u001b[1;32mIn[33], line 52\u001b[0m, in \u001b[0;36mTop.cl\u001b[1;34m(self, x)\u001b[0m\n\u001b[0;32m     50\u001b[0m \u001b[38;5;28;01mfor\u001b[39;00m point \u001b[38;5;129;01min\u001b[39;00m \u001b[38;5;28mself\u001b[39m\u001b[38;5;241m.\u001b[39mpoints:\n\u001b[0;32m     51\u001b[0m     \u001b[38;5;28;01mif\u001b[39;00m x \u001b[38;5;129;01mnot\u001b[39;00m \u001b[38;5;129;01min\u001b[39;00m \u001b[38;5;28mself\u001b[39m\u001b[38;5;241m.\u001b[39mbasis[point]:\n\u001b[1;32m---> 52\u001b[0m         \u001b[38;5;28;43mopen\u001b[39;49m\u001b[43m \u001b[49m\u001b[38;5;241;43m|\u001b[39;49m\u001b[38;5;241;43m=\u001b[39;49m\u001b[43m \u001b[49m\u001b[38;5;28;43mself\u001b[39;49m\u001b[38;5;241;43m.\u001b[39;49m\u001b[43mbasis\u001b[49m\u001b[43m[\u001b[49m\u001b[43mpoint\u001b[49m\u001b[43m]\u001b[49m \n\u001b[0;32m     53\u001b[0m \u001b[38;5;66;03m# open = largest open set not containing x\u001b[39;00m\n\u001b[0;32m     54\u001b[0m \u001b[38;5;66;03m# closure of {x} is its complement\u001b[39;00m\n\u001b[0;32m     55\u001b[0m \u001b[38;5;28;01mreturn\u001b[39;00m \u001b[38;5;28mself\u001b[39m\u001b[38;5;241m.\u001b[39mpoints \u001b[38;5;241m-\u001b[39m \u001b[38;5;28mopen\u001b[39m\n",
      "\u001b[1;31mTypeError\u001b[0m: cannot convert dictionary update sequence element #0 to a sequence"
     ]
    }
   ],
   "source": [
    "X = Top({0:{0,1,3}, 1:{1}, 2:{1,2,3}, 3:{3}})\n",
    "\n",
    "X[2]"
   ]
  },
  {
   "cell_type": "code",
   "execution_count": 18,
   "id": "b48b4978",
   "metadata": {},
   "outputs": [
    {
     "ename": "KeyError",
     "evalue": "'b'",
     "output_type": "error",
     "traceback": [
      "\u001b[1;31m---------------------------------------------------------------------------\u001b[0m",
      "\u001b[1;31mKeyError\u001b[0m                                  Traceback (most recent call last)",
      "Cell \u001b[1;32mIn[18], line 2\u001b[0m\n\u001b[0;32m      1\u001b[0m b \u001b[38;5;241m=\u001b[39m {\u001b[38;5;124m'\u001b[39m\u001b[38;5;124ma\u001b[39m\u001b[38;5;124m'\u001b[39m: \u001b[38;5;241m123\u001b[39m}\n\u001b[1;32m----> 2\u001b[0m \u001b[38;5;28;01mif\u001b[39;00m \u001b[43mb\u001b[49m\u001b[43m[\u001b[49m\u001b[38;5;124;43m'\u001b[39;49m\u001b[38;5;124;43mb\u001b[39;49m\u001b[38;5;124;43m'\u001b[39;49m\u001b[43m]\u001b[49m:\n\u001b[0;32m      3\u001b[0m     \u001b[38;5;28mprint\u001b[39m(\u001b[38;5;124m'\u001b[39m\u001b[38;5;124mtest\u001b[39m\u001b[38;5;124m'\u001b[39m)\n",
      "\u001b[1;31mKeyError\u001b[0m: 'b'"
     ]
    }
   ],
   "source": [
    "b = {'a': 123}\n",
    "if b['b']:\n",
    "    print('test')"
   ]
  },
  {
   "cell_type": "code",
   "execution_count": null,
   "id": "e0c59de3",
   "metadata": {},
   "outputs": [],
   "source": []
  },
  {
   "cell_type": "code",
   "execution_count": null,
   "id": "6fe1c99b",
   "metadata": {},
   "outputs": [],
   "source": []
  },
  {
   "cell_type": "code",
   "execution_count": null,
   "id": "54053ed8",
   "metadata": {},
   "outputs": [],
   "source": []
  }
 ],
 "metadata": {
  "kernelspec": {
   "display_name": "Python 3",
   "language": "python",
   "name": "python3"
  },
  "language_info": {
   "codemirror_mode": {
    "name": "ipython",
    "version": 3
   },
   "file_extension": ".py",
   "mimetype": "text/x-python",
   "name": "python",
   "nbconvert_exporter": "python",
   "pygments_lexer": "ipython3",
   "version": "3.12.10"
  }
 },
 "nbformat": 4,
 "nbformat_minor": 5
}
