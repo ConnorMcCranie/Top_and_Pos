{
 "cells": [
  {
   "cell_type": "code",
   "execution_count": 37,
   "id": "2cdd90ce",
   "metadata": {},
   "outputs": [],
   "source": [
    "import networkx as nx"
   ]
  },
  {
   "cell_type": "code",
   "execution_count": null,
   "id": "d1725821",
   "metadata": {},
   "outputs": [],
   "source": [
    "class Top:\n",
    "    ''' A class for representing a finite topological space. \n",
    "        ------------\n",
    "        Attributes |\n",
    "        ----------------------------------------------------------------\n",
    "        points: a set {x | x in X } of the points of the top. space\n",
    "                The elements should all be hashable\n",
    "\n",
    "        opens: a dictionary of the basic open sets. It is of the form\n",
    "        { x : { y | x <= y} } where x <= y means x in closure({y})\n",
    "\n",
    "        closures:   dictionary of the closures of each point\n",
    "                    { x : cl({x}) }\n",
    "                    Starts as empty because computing all is O(n^2)\n",
    "                    Run getClosures() method if all are needed. Else,\n",
    "                    just call X.cl(x) or X[x] for closure of 1 point\n",
    "        ----------------------------------------------------------------\n",
    "    \n",
    "    '''\n",
    "    def __init__(self, data, discrete=False):\n",
    "        # can pass a networkx graph as the data\n",
    "        if type(data) == nx.DiGraph:\n",
    "            opens = {}\n",
    "            for node in data.nodes:\n",
    "                opens[node] = nx.descendants(data,node) | {node}\n",
    "            self.opens = opens\n",
    "            self.points = set(data.nodes)\n",
    "            self.closures = {}\n",
    "        elif type(data) == dict:\n",
    "            self.opens = data\n",
    "            self.points = set(data)\n",
    "            self.closures = {}\n",
    "        \n",
    "        elif type(data) == int:\n",
    "            assert data >= 0, 'Topology of integer can\\'t be negative'\n",
    "            self.points = {n for n in range(data)}            \n",
    "            if not discrete: # order linearly\n",
    "                self.opens = {n: {k for  k in range(n, data)} \n",
    "                              for n in range(data)}\n",
    "            else: # discrete topology\n",
    "                self.opens = {n: {n} for n in range(data)}\n",
    "\n",
    "\n",
    "\n",
    "    def __repr__(self):\n",
    "        return str(self.opens)\n",
    "    \n",
    "    def __len__(self):\n",
    "        return len(self.points)\n",
    "    \n",
    "    def __contains__(self, x):\n",
    "        return x in self.points\n",
    "    \n",
    "    def __iter__(self):\n",
    "        return iter(self.points)\n",
    "\n",
    "    def __call__(self, x):\n",
    "        # Top(x) returns the same as self.opens[x]\n",
    "        return self.opens[x]\n",
    "        \n",
    "    def __getitem__(self, x):\n",
    "        # Top[x] returns the same as Top.cl(x) or Top.closures[x]\n",
    "        # This convention mirrors the notation (a,b) for open interval \n",
    "        # and [a,b] for closed interval\n",
    "        try:\n",
    "            return self.closures[x]\n",
    "        except:\n",
    "            self.closures[x] = self.cl(x)\n",
    "            return self.closures[x]\n",
    "        \n",
    "    def __mul__(self, other):\n",
    "        # product topology\n",
    "        return self.product(other)\n",
    "    \n",
    "    def __add__(self, other):\n",
    "        # disjoint union topology\n",
    "        if not self.points & other.points: # already disjoint\n",
    "            return Top(self.opens | other.opens)\n",
    "        else: # force them to be disjoint\n",
    "            point0 = Top({0: {0}})\n",
    "            point1 = Top({1: {1}})\n",
    "            return Top((point0 * self).opens | (point1 * other).opens)\n",
    "        \n",
    "    def __eq__(self, other):\n",
    "        return self.opens == other.opens\n",
    "    \n",
    "    def __le__(self, other):\n",
    "        # is a subspace\n",
    "        if self.points & other.points != self.points:\n",
    "            return False # isn't a subset\n",
    "        for point in self.points:\n",
    "            if other(point) & self.points != self(point):\n",
    "                return False # not the same open sets\n",
    "        return True\n",
    "    \n",
    "    def __lt__(self, other):\n",
    "        # proper subspace\n",
    "        return (not self == other) and self <= other\n",
    "    \n",
    "    def __ge__(self, other):\n",
    "        # contains other as a subspace\n",
    "        return other <= self\n",
    "    \n",
    "    def __gt__(self, other):\n",
    "        # proper super space\n",
    "        return (not self == other) and self >= other\n",
    "    \n",
    "    def __truediv__(self, subspace):\n",
    "        # quotient by a subspace\n",
    "        assert self >= subspace, 'Quotient defined for a subspace'\n",
    "        quotient = self.points - subspace.points\n",
    "        open = set(self.points)\n",
    "        for point in subspace:\n",
    "            open &= subspace.opens[point] \n",
    "        open -= subspace.points\n",
    "        # open = {x in self | x > a, for all a in subspace}\n",
    "\n",
    "        opens = {x: self.opens[x] for x in quotient}\n",
    "        if '*' not in opens:\n",
    "            pt = '*'\n",
    "        else: # naming issue, don't want to overwrite '*'\n",
    "            pt = frozenset(subspace.points) # not already a key \n",
    "        opens[pt] = open | {pt}\n",
    "        return Top(opens)\n",
    "\n",
    "    def cl(self, x):\n",
    "        # returns the closure of the singleton {x}\n",
    "        assert x in self.points,\\\n",
    "        f'{x} is not a point in the topological space'\n",
    "        open = set()\n",
    "        for point in self.points:\n",
    "            if x not in self.opens[point]:\n",
    "                open |= self.opens[point] \n",
    "        # open = largest open set not containing x\n",
    "        # closure of {x} is its complement\n",
    "        return self.points - open\n",
    "        \n",
    "    def getClosures(self):\n",
    "        # populates Top.closures for all elements\n",
    "        for x in self:\n",
    "            try: # don't bother if it's already computed\n",
    "                self.closures[x]\n",
    "            except:\n",
    "                self.closures[x] = self.cl(x)\n",
    "\n",
    "    def isleq(self, x, y):\n",
    "        # partial order defined by x<=y iff x in cl(y)\n",
    "        return x in self[y]\n",
    "    \n",
    "    def isT0(self):\n",
    "        # True iff self.opens[x] = self.opens[y] implies x = y\n",
    "        checked = set()\n",
    "        for x in self:\n",
    "            for y in self.points - (checked | {x}):\n",
    "                if self(x) == self(y):\n",
    "                    return False\n",
    "            checked |= {x} # don't check U_x=U_y and U_y=U_x separately\n",
    "        return True\n",
    "    \n",
    "    def isT1(self):\n",
    "        # for finite spaces, this is the same as being discrete\n",
    "        for x in self:\n",
    "            if self(x) != {x}:\n",
    "                return False\n",
    "        return True\n",
    "    \n",
    "    def subspace(self, subset):\n",
    "        # subspace topology\n",
    "        assert subset & self.points == subset, 'needs to be a subset'\n",
    "        return Top({x: self(x) & subset for x in subset})\n",
    "    \n",
    "    def product(self, other):\n",
    "        # cartesian product\n",
    "        def prod(set1, set2):\n",
    "            return {(x, y) for x in set1 for y in set2}\n",
    "        points = prod(self.points, other.points)\n",
    "        opens = {point : prod(self(point[0]), other(point[1])) \\\n",
    "                 for point in points}\n",
    "        return Top(opens)\n",
    "    \n"
   ]
  },
  {
   "cell_type": "code",
   "execution_count": 39,
   "id": "cf22d7e7",
   "metadata": {},
   "outputs": [
    {
     "ename": "KeyError",
     "evalue": "2",
     "output_type": "error",
     "traceback": [
      "\u001b[1;31m---------------------------------------------------------------------------\u001b[0m",
      "\u001b[1;31mKeyError\u001b[0m                                  Traceback (most recent call last)",
      "Cell \u001b[1;32mIn[39], line 3\u001b[0m\n\u001b[0;32m      1\u001b[0m X \u001b[38;5;241m=\u001b[39m Top({\u001b[38;5;241m0\u001b[39m:{\u001b[38;5;241m0\u001b[39m,\u001b[38;5;241m1\u001b[39m,\u001b[38;5;241m3\u001b[39m}, \u001b[38;5;241m1\u001b[39m:{\u001b[38;5;241m1\u001b[39m}, \u001b[38;5;241m2\u001b[39m:{\u001b[38;5;241m1\u001b[39m,\u001b[38;5;241m2\u001b[39m,\u001b[38;5;241m3\u001b[39m}, \u001b[38;5;241m3\u001b[39m:{\u001b[38;5;241m3\u001b[39m}})\n\u001b[0;32m      2\u001b[0m A \u001b[38;5;241m=\u001b[39m X\u001b[38;5;241m.\u001b[39msubspace({\u001b[38;5;241m0\u001b[39m,\u001b[38;5;241m1\u001b[39m})\n\u001b[1;32m----> 3\u001b[0m \u001b[43mX\u001b[49m\u001b[38;5;241;43m/\u001b[39;49m\u001b[43mA\u001b[49m\n",
      "Cell \u001b[1;32mIn[38], line 118\u001b[0m, in \u001b[0;36mTop.__truediv__\u001b[1;34m(self, subspace)\u001b[0m\n\u001b[0;32m    115\u001b[0m \u001b[38;5;28mopen\u001b[39m \u001b[38;5;241m&\u001b[39m\u001b[38;5;241m=\u001b[39m quotient\n\u001b[0;32m    116\u001b[0m \u001b[38;5;66;03m# open = {x in self | x > a, for all a in subspace}\u001b[39;00m\n\u001b[1;32m--> 118\u001b[0m opens \u001b[38;5;241m=\u001b[39m {x: \u001b[43msubspace\u001b[49m\u001b[43m(\u001b[49m\u001b[43mx\u001b[49m\u001b[43m)\u001b[49m \u001b[38;5;28;01mfor\u001b[39;00m x \u001b[38;5;129;01min\u001b[39;00m quotient}\n\u001b[0;32m    119\u001b[0m \u001b[38;5;28;01mif\u001b[39;00m \u001b[38;5;124m'\u001b[39m\u001b[38;5;124m*\u001b[39m\u001b[38;5;124m'\u001b[39m \u001b[38;5;129;01mnot\u001b[39;00m \u001b[38;5;129;01min\u001b[39;00m opens:\n\u001b[0;32m    120\u001b[0m     pt \u001b[38;5;241m=\u001b[39m \u001b[38;5;124m'\u001b[39m\u001b[38;5;124m*\u001b[39m\u001b[38;5;124m'\u001b[39m\n",
      "Cell \u001b[1;32mIn[38], line 59\u001b[0m, in \u001b[0;36mTop.__call__\u001b[1;34m(self, x)\u001b[0m\n\u001b[0;32m     57\u001b[0m \u001b[38;5;28;01mdef\u001b[39;00m \u001b[38;5;21m__call__\u001b[39m(\u001b[38;5;28mself\u001b[39m, x):\n\u001b[0;32m     58\u001b[0m     \u001b[38;5;66;03m# Top(x) returns the same as self.opens[x]\u001b[39;00m\n\u001b[1;32m---> 59\u001b[0m     \u001b[38;5;28;01mreturn\u001b[39;00m \u001b[38;5;28;43mself\u001b[39;49m\u001b[38;5;241;43m.\u001b[39;49m\u001b[43mopens\u001b[49m\u001b[43m[\u001b[49m\u001b[43mx\u001b[49m\u001b[43m]\u001b[49m\n",
      "\u001b[1;31mKeyError\u001b[0m: 2"
     ]
    }
   ],
   "source": [
    "X = Top({0:{0,1,3}, 1:{1}, 2:{1,2,3}, 3:{3}})\n",
    "A = X.subspace({0,1})\n",
    "X/A\n"
   ]
  },
  {
   "cell_type": "code",
   "execution_count": null,
   "id": "076d0ba1",
   "metadata": {},
   "outputs": [
    {
     "data": {
      "text/plain": [
       "{0: {0, 1, 'a'}, '*': {'*'}}"
      ]
     },
     "execution_count": 33,
     "metadata": {},
     "output_type": "execute_result"
    }
   ],
   "source": [
    "Y = Top({0:{0,1,'a'}, 1:{1, 'a'}, 'a':{'a'}})\n",
    "A = Y.subspace({1,'a'})\n",
    "Y/A"
   ]
  },
  {
   "cell_type": "code",
   "execution_count": null,
   "id": "cf0c7a94",
   "metadata": {},
   "outputs": [
    {
     "data": {
      "text/plain": [
       "{frozenset({1, 2, 3}): {1, 2, 3}}"
      ]
     },
     "execution_count": 34,
     "metadata": {},
     "output_type": "execute_result"
    }
   ],
   "source": [
    "a = frozenset({1,2,3})\n",
    "d = {a:set(a)}\n",
    "d"
   ]
  },
  {
   "cell_type": "code",
   "execution_count": null,
   "id": "11fa7dea",
   "metadata": {},
   "outputs": [
    {
     "data": {
      "text/plain": [
       "{'*', 1, 3}"
      ]
     },
     "execution_count": 35,
     "metadata": {},
     "output_type": "execute_result"
    }
   ],
   "source": [
    "set({1: {1}, 3: {3}, '*': {'*'}})"
   ]
  },
  {
   "cell_type": "code",
   "execution_count": null,
   "id": "de51e902",
   "metadata": {},
   "outputs": [],
   "source": []
  }
 ],
 "metadata": {
  "kernelspec": {
   "display_name": "Python 3",
   "language": "python",
   "name": "python3"
  },
  "language_info": {
   "codemirror_mode": {
    "name": "ipython",
    "version": 3
   },
   "file_extension": ".py",
   "mimetype": "text/x-python",
   "name": "python",
   "nbconvert_exporter": "python",
   "pygments_lexer": "ipython3",
   "version": "3.12.10"
  }
 },
 "nbformat": 4,
 "nbformat_minor": 5
}
