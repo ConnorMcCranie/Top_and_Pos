{
 "cells": [
  {
   "cell_type": "code",
   "execution_count": null,
   "metadata": {},
   "outputs": [],
   "source": [
    "# There is a correspondence between finite (T0) topological spaces and finite posets.\n",
    "# The goal is to represent finite top. spaces and also posets in python,\n",
    "# and to be able to convert between them. \n",
    "#\n",
    "# This correspondence is functorial, meaning that continuous functions between topological spaces\n",
    "# correspond to order-preserving functions between posets.\n",
    "#\n",
    "# The correspondence is given via the 'specialization order' , which is defined as follows:\n",
    "# x <= y if and only if x is in the closure of the singleton {y}.\n",
    "# Conversely: given a poset, a topology is defined by the basic open sets\n",
    "#  U_x := {y | x <= y} \n",
    "#\n",
    "# Some functions I want to implement:\n",
    "# - Homology groups of a topological space\n",
    "# - Barycentric subdivision\n",
    "# - Cartesian product of topological spaces\n",
    "# - Mapping space Hom(X,Y) of continuous functions between topological spaces\n",
    "# - Simplicial complexes\n",
    "#\n",
    "# An long-term goal is to use this for topological quantum error correction codes.\n",
    "# i.e. for each point in the space, there is a qubit, and the topology of the space\n",
    "# determines the stabilizer generators.\n"
   ]
  },
  {
   "cell_type": "code",
   "execution_count": null,
   "metadata": {},
   "outputs": [],
   "source": []
  }
 ],
 "metadata": {
  "language_info": {
   "name": "python"
  }
 },
 "nbformat": 4,
 "nbformat_minor": 2
}
